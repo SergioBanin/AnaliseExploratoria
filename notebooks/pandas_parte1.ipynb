{
  "nbformat": 4,
  "nbformat_minor": 0,
  "metadata": {
    "colab": {
      "provenance": []
    },
    "kernelspec": {
      "name": "python3",
      "display_name": "Python 3"
    },
    "language_info": {
      "name": "python"
    }
  },
  "cells": [
    {
      "cell_type": "code",
      "execution_count": null,
      "metadata": {
        "id": "nrkfOEbA3ziQ"
      },
      "outputs": [],
      "source": [
        "# início do notebook pandas_parte1.ipynb\n",
        "import pandas as pd"
      ]
    },
    {
      "cell_type": "code",
      "source": [
        "cam ='https://raw.githubusercontent.com/SergioBanin/aed/main/parte1/'\n",
        "df = pd.read_csv(cam + 'dadosbasicos.csv')\n",
        "df"
      ],
      "metadata": {
        "id": "Fpt-p8fJ34LE"
      },
      "execution_count": null,
      "outputs": []
    },
    {
      "cell_type": "code",
      "source": [
        "cam ='https://raw.githubusercontent.com/SergioBanin/aed/main/parte1/'\n",
        "df = pd.read_excel(cam + 'dadosbasicos.xlsx')\n",
        "df"
      ],
      "metadata": {
        "id": "mZGaoVraStQ4"
      },
      "execution_count": null,
      "outputs": []
    },
    {
      "cell_type": "code",
      "source": [
        "cam ='https://raw.githubusercontent.com/SergioBanin/aed/main/parte1/'\n",
        "df = pd.read_csv(cam + 'dadosbasicos_pv.csv')\n",
        "df"
      ],
      "metadata": {
        "id": "ts2VxQfoK59g"
      },
      "execution_count": null,
      "outputs": []
    },
    {
      "cell_type": "code",
      "source": [
        "cam ='https://raw.githubusercontent.com/SergioBanin/aed/main/parte1/'\n",
        "df = pd.read_csv(cam + 'dadosbasicos_pv.csv', sep=';')\n",
        "df"
      ],
      "metadata": {
        "id": "rSmifFLfT7w5"
      },
      "execution_count": null,
      "outputs": []
    },
    {
      "cell_type": "code",
      "source": [
        "# encoding é a codificação de caracteres - as opções mais usuais são 'utf-8', 'iso-8859-1' e 'latin-1'\n",
        "\n",
        "cam ='https://raw.githubusercontent.com/SergioBanin/aed/main/parte1/'\n",
        "df = pd.read_csv(cam + 'dadosbasicos_pv.csv', sep=';', encoding='iso-8859-1')\n",
        "df"
      ],
      "metadata": {
        "id": "5MpQZksNUA5d"
      },
      "execution_count": null,
      "outputs": []
    },
    {
      "cell_type": "code",
      "source": [
        "cam ='/content/drive/MyDrive/AnaliseExploratoria/'\n",
        "df = pd.read_csv(cam + 'dadosbasicos.csv')\n",
        "df"
      ],
      "metadata": {
        "id": "27OgzEJHa9Ul"
      },
      "execution_count": null,
      "outputs": []
    },
    {
      "cell_type": "code",
      "source": [],
      "metadata": {
        "id": "Dc61U7HHfiYJ"
      },
      "execution_count": null,
      "outputs": []
    }
  ]
}